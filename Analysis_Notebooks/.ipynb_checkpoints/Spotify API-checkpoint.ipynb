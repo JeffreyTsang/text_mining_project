{
 "cells": [
  {
   "cell_type": "code",
   "execution_count": 173,
   "metadata": {},
   "outputs": [],
   "source": [
    "#!pip install spotipy\n",
    "import spotipy\n",
    "from spotipy.oauth2 import SpotifyClientCredentials\n",
    "import sys\n",
    "import spotipy.util as util\n",
    "import numpy as np\n",
    "from collections import defaultdict\n",
    "\n",
    "cid =\"baca9371d5f8409a85ffee343639df22\" \n",
    "secret = \"75d20d82245b445882cafae68e3442aa\"\n",
    "\n",
    "client_credentials_manager = SpotifyClientCredentials(client_id=cid,client_secret=secret)\n",
    "sp = spotipy.Spotify(client_credentials_manager=client_credentials_manager)"
   ]
  },
  {
   "cell_type": "code",
   "execution_count": 174,
   "metadata": {},
   "outputs": [],
   "source": [
    "female_uri = {\n",
    "    \"Alicia Keys\":\"spotify:artist:3DiDSECUqqY1AuBP8qtaIa\",\n",
    "    \"Beyoncé\":\"spotify:artist:6vWDO969PvNqNYHIOW5v0m\",\n",
    "    \"Rihanna\":\"spotify:artist:5pKCCKE2ajJHZ9KAiaK11H\",\n",
    "    \"Solange\":\"spotify:artist:2auiVi8sUZo17dLy1HwrTU\",\n",
    "    \"Missy Elliot\":\"spotify:artist:2wIVse2owClT7go1WT98tk\",\n",
    "    \"The Internet\":\"spotify:artist:7GN9PivdemQRKjDt4z5Zv8\",\n",
    "}"
   ]
  },
  {
   "cell_type": "code",
   "execution_count": 175,
   "metadata": {},
   "outputs": [],
   "source": [
    "def get_albums(uri):\n",
    "    results = sp.artist_albums(uri, album_type='album')\n",
    "    albums = results['items']\n",
    "    while results['next']:\n",
    "        results = sp.next(results)\n",
    "        albums.extend(results['items'])\n",
    "    return albums\n",
    "\n",
    "def get_album_names(artists_albums):\n",
    "    artist_name = defaultdict(list)\n",
    "    for artist,row in artists_albums.items():\n",
    "        for album in row:\n",
    "            artist_name[artist].extend([album['name']])\n",
    "        artist_name[artist] = list(np.unique(artist_name[artist]))\n",
    "    \n",
    "    return dict(artist_name)"
   ]
  },
  {
   "cell_type": "code",
   "execution_count": 176,
   "metadata": {},
   "outputs": [
    {
     "name": "stdout",
     "output_type": "stream",
     "text": [
      "Alicia Keys Done\n",
      "Beyoncé Done\n",
      "Rihanna Done\n",
      "Solange Done\n",
      "Missy Elliot Done\n",
      "The Internet Done\n"
     ]
    }
   ],
   "source": [
    "female_albums = {}\n",
    "for name,uri in female_uri.items():\n",
    "    female_albums[name] = get_albums(uri)\n",
    "    print(name,\"Done\")"
   ]
  },
  {
   "cell_type": "code",
   "execution_count": 177,
   "metadata": {},
   "outputs": [],
   "source": [
    "female_album_names = get_album_names(female_albums)"
   ]
  },
  {
   "cell_type": "code",
   "execution_count": null,
   "metadata": {},
   "outputs": [],
   "source": []
  },
  {
   "cell_type": "code",
   "execution_count": null,
   "metadata": {},
   "outputs": [],
   "source": []
  },
  {
   "cell_type": "code",
   "execution_count": null,
   "metadata": {},
   "outputs": [],
   "source": []
  }
 ],
 "metadata": {
  "kernelspec": {
   "display_name": "Python 3",
   "language": "python",
   "name": "python3"
  },
  "language_info": {
   "codemirror_mode": {
    "name": "ipython",
    "version": 3
   },
   "file_extension": ".py",
   "mimetype": "text/x-python",
   "name": "python",
   "nbconvert_exporter": "python",
   "pygments_lexer": "ipython3",
   "version": "3.7.3"
  }
 },
 "nbformat": 4,
 "nbformat_minor": 2
}
