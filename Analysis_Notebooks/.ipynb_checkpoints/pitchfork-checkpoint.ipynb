{
 "cells": [
  {
   "cell_type": "code",
   "execution_count": 8,
   "metadata": {},
   "outputs": [
    {
     "name": "stdout",
     "output_type": "stream",
     "text": [
      "Requirement already satisfied: pitchfork-api in /Users/andrewsemmes/anaconda3/lib/python3.7/site-packages (0.0.4)\r\n",
      "Requirement already satisfied: beautifulsoup4 in /Users/andrewsemmes/anaconda3/lib/python3.7/site-packages (from pitchfork-api) (4.6.0)\r\n"
     ]
    }
   ],
   "source": [
    "!pip install pitchfork-api"
   ]
  },
  {
   "cell_type": "code",
   "execution_count": 15,
   "metadata": {},
   "outputs": [],
   "source": [
    "pitchfork = __import__(\"pitchfork_api.pitchfork\")"
   ]
  },
  {
   "cell_type": "code",
   "execution_count": 18,
   "metadata": {},
   "outputs": [
    {
     "data": {
      "text/plain": [
       "'The Life of Pablo'"
      ]
     },
     "execution_count": 18,
     "metadata": {},
     "output_type": "execute_result"
    }
   ],
   "source": [
    "p = pitchfork.search('kanye west', 'pablo') # the title is autocompleted\n",
    "p.album() # the full album title"
   ]
  },
  {
   "cell_type": "code",
   "execution_count": 19,
   "metadata": {},
   "outputs": [
    {
     "data": {
      "text/plain": [
       "9.0"
      ]
     },
     "execution_count": 19,
     "metadata": {},
     "output_type": "execute_result"
    }
   ],
   "source": [
    "p.score()"
   ]
  },
  {
   "cell_type": "code",
   "execution_count": 33,
   "metadata": {},
   "outputs": [],
   "source": [
    "def artist_score(artist, albums):\n",
    "    alb_sc = {}\n",
    "    for x in albums:\n",
    "        print(\"Trying:\",x)\n",
    "        p = pitchfork.search(artist, x)\n",
    "        alb_sc[p.album()] = p.score()\n",
    "    \n",
    "    return alb_sc"
   ]
  },
  {
   "cell_type": "code",
   "execution_count": 29,
   "metadata": {},
   "outputs": [
    {
     "data": {
      "text/plain": [
       "{'Testing': 6.7, 'At.Long.Last.A$AP': 7.8, 'LongLiveA$AP': 8.5}"
      ]
     },
     "execution_count": 29,
     "metadata": {},
     "output_type": "execute_result"
    }
   ],
   "source": [
    "artist_score('A$AP Rocky', ['Testing','AT.LONG','longlive'])"
   ]
  },
  {
   "cell_type": "code",
   "execution_count": 30,
   "metadata": {},
   "outputs": [
    {
     "data": {
      "text/plain": [
       "{'IGOR': 8.0,\n",
       " 'Flower Boy': 8.5,\n",
       " 'Cherry Bomb': 6.7,\n",
       " 'Wolf': 7.8,\n",
       " 'Goblin': 8.0}"
      ]
     },
     "execution_count": 30,
     "metadata": {},
     "output_type": "execute_result"
    }
   ],
   "source": [
    "artist_score('Tyler The Creator', ['igor','flower boy','cherry bomb','wolf','goblin'])"
   ]
  },
  {
   "cell_type": "code",
   "execution_count": 31,
   "metadata": {},
   "outputs": [
    {
     "data": {
      "text/plain": [
       "{'Hive Mind': 8.3,\n",
       " 'Ego Death': 7.4,\n",
       " 'Feel Good': 6.4,\n",
       " 'Purple Naked Ladies': 6.0}"
      ]
     },
     "execution_count": 31,
     "metadata": {},
     "output_type": "execute_result"
    }
   ],
   "source": [
    "artist_score('the internet', ['hive mind','ego death','feel good','purple'])"
   ]
  },
  {
   "cell_type": "code",
   "execution_count": 36,
   "metadata": {},
   "outputs": [
    {
     "name": "stdout",
     "output_type": "stream",
     "text": [
      "Trying: awaken\n",
      "Trying: because\n",
      "Trying: camp\n"
     ]
    },
    {
     "data": {
      "text/plain": [
       "{'“Awaken, My Love!”': 7.2, 'Because the Internet': 5.8, 'Camp': 1.6}"
      ]
     },
     "execution_count": 36,
     "metadata": {},
     "output_type": "execute_result"
    }
   ],
   "source": [
    "artist_score('childish',['awaken','because','camp'])"
   ]
  },
  {
   "cell_type": "code",
   "execution_count": 37,
   "metadata": {},
   "outputs": [
    {
     "name": "stdout",
     "output_type": "stream",
     "text": [
      "Trying: The College Dropout\n",
      "Trying: Late Registration\n",
      "Trying: Graduation\n",
      "Trying: 808s & Heartbreak\n",
      "Trying: My Beautiful Dark Twisted Fantasy\n",
      "Trying: Yeezus\n",
      "Trying: The Life of Pablo\n",
      "Trying: ye\n",
      "Trying: Jesus is King\n"
     ]
    },
    {
     "data": {
      "text/plain": [
       "{'The College Dropout': 8.2,\n",
       " 'Late Registration': 9.5,\n",
       " 'Graduation': 8.7,\n",
       " '808s and Heartbreak': 7.6,\n",
       " 'My Beautiful Dark Twisted Fantasy': 10.0,\n",
       " 'Yeezus': 9.5,\n",
       " 'The Life of Pablo': 9.0,\n",
       " 'ye': 7.1,\n",
       " 'Jesus Is King': 7.2}"
      ]
     },
     "execution_count": 37,
     "metadata": {},
     "output_type": "execute_result"
    }
   ],
   "source": [
    "artist_score('kanye',[\"The College Dropout\",\"Late Registration\",\"Graduation\",\"808s & Heartbreak\",\"My Beautiful Dark Twisted Fantasy\",\"Yeezus\",\"The Life of Pablo\",\"ye\",\"Jesus is King\"])"
   ]
  },
  {
   "cell_type": "code",
   "execution_count": 39,
   "metadata": {},
   "outputs": [
    {
     "name": "stdout",
     "output_type": "stream",
     "text": [
      "Trying: good kid, m.A.A.d city\n",
      "Trying: Section.80\n",
      "Trying: To Pimp a Butterfly\n",
      "Trying: DAMN.\n"
     ]
    },
    {
     "data": {
      "text/plain": [
       "{'good kid, m.A.A.d city': 9.5,\n",
       " 'Section.80': 8.0,\n",
       " 'To Pimp a Butterfly': 9.3,\n",
       " 'DAMN.': 9.2}"
      ]
     },
     "execution_count": 39,
     "metadata": {},
     "output_type": "execute_result"
    }
   ],
   "source": [
    "artist_score('kendrick',[\"good kid, m.A.A.d city\",\"Section.80\",\"To Pimp a Butterfly\",\"DAMN.\"])"
   ]
  },
  {
   "cell_type": "code",
   "execution_count": 40,
   "metadata": {},
   "outputs": [
    {
     "name": "stdout",
     "output_type": "stream",
     "text": [
      "Trying: Summertime '06\n",
      "Trying: Big Fish Theory\n",
      "Trying: FM!\n"
     ]
    },
    {
     "data": {
      "text/plain": [
       "{\"Summertime '06\": 8.8, 'Big Fish Theory': 8.7, 'FM!': 8.2}"
      ]
     },
     "execution_count": 40,
     "metadata": {},
     "output_type": "execute_result"
    }
   ],
   "source": [
    "artist_score('vince',[\"Summertime '06\",\"Big Fish Theory\",\"FM!\"])"
   ]
  },
  {
   "cell_type": "code",
   "execution_count": null,
   "metadata": {},
   "outputs": [],
   "source": []
  }
 ],
 "metadata": {
  "kernelspec": {
   "display_name": "Python 3",
   "language": "python",
   "name": "python3"
  },
  "language_info": {
   "codemirror_mode": {
    "name": "ipython",
    "version": 3
   },
   "file_extension": ".py",
   "mimetype": "text/x-python",
   "name": "python",
   "nbconvert_exporter": "python",
   "pygments_lexer": "ipython3",
   "version": "3.7.3"
  }
 },
 "nbformat": 4,
 "nbformat_minor": 2
}
