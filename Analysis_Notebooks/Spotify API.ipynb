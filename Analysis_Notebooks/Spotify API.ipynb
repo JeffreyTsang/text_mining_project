{
 "cells": [
  {
   "cell_type": "code",
   "execution_count": 20,
   "metadata": {},
   "outputs": [],
   "source": [
    "# !pip install spotipy\n",
    "import spotipy\n",
    "from spotipy.oauth2 import SpotifyClientCredentials\n",
    "import sys\n",
    "import spotipy.util as util\n",
    "import numpy as np\n",
    "from collections import defaultdict\n",
    "\n",
    "cid =\"baca9371d5f8409a85ffee343639df22\" \n",
    "secret = \"75d20d82245b445882cafae68e3442aa\"\n",
    "\n",
    "client_credentials_manager = SpotifyClientCredentials(client_id=cid,client_secret=secret)\n",
    "sp = spotipy.Spotify(client_credentials_manager=client_credentials_manager)"
   ]
  },
  {
   "cell_type": "code",
   "execution_count": 12,
   "metadata": {},
   "outputs": [],
   "source": [
    "female_uri = {\n",
    "    \"Alicia Keys\":\"spotify:artist:3DiDSECUqqY1AuBP8qtaIa\",\n",
    "    \"Beyoncé\":\"spotify:artist:6vWDO969PvNqNYHIOW5v0m\",\n",
    "    \"Rihanna\":\"spotify:artist:5pKCCKE2ajJHZ9KAiaK11H\",\n",
    "    \"Solange\":\"spotify:artist:2auiVi8sUZo17dLy1HwrTU\",\n",
    "    \"Missy Elliot\":\"spotify:artist:2wIVse2owClT7go1WT98tk\",\n",
    "    \"The Internet\":\"spotify:artist:7GN9PivdemQRKjDt4z5Zv8\",\n",
    "}"
   ]
  },
  {
   "cell_type": "code",
   "execution_count": 13,
   "metadata": {},
   "outputs": [],
   "source": [
    "def get_albums(uri):\n",
    "    results = sp.artist_albums(uri, album_type='album')\n",
    "    albums = results['items']\n",
    "    while results['next']:\n",
    "        results = sp.next(results)\n",
    "        albums.extend(results['items'])\n",
    "    return albums\n",
    "\n",
    "def get_album_names(artists_albums):\n",
    "    artist_name = defaultdict(list)\n",
    "    for artist,row in artists_albums.items():\n",
    "        for album in row:\n",
    "            artist_name[artist].extend([album['name']])\n",
    "        artist_name[artist] = list(np.unique(artist_name[artist]))\n",
    "    \n",
    "    return dict(artist_name)"
   ]
  },
  {
   "cell_type": "code",
   "execution_count": 14,
   "metadata": {},
   "outputs": [
    {
     "name": "stdout",
     "output_type": "stream",
     "text": [
      "Alicia Keys Done\n",
      "Beyoncé Done\n",
      "Rihanna Done\n",
      "Solange Done\n",
      "Missy Elliot Done\n",
      "The Internet Done\n"
     ]
    }
   ],
   "source": [
    "female_albums = {}\n",
    "for name,uri in female_uri.items():\n",
    "    female_albums[name] = get_albums(uri)\n",
    "    print(name,\"Done\")"
   ]
  },
  {
   "cell_type": "code",
   "execution_count": 15,
   "metadata": {},
   "outputs": [],
   "source": [
    "female_album_names = get_album_names(female_albums)"
   ]
  },
  {
   "cell_type": "code",
   "execution_count": 16,
   "metadata": {},
   "outputs": [
    {
     "data": {
      "text/plain": [
       "{'Alicia Keys': ['Alicia Keys - VH1 Storytellers',\n",
       "  'As I Am (Expanded Edition)',\n",
       "  'Girl On Fire',\n",
       "  'HERE',\n",
       "  'Songs In A Minor (Expanded Edition)',\n",
       "  'The Diary Of Alicia Keys',\n",
       "  'The Diary Of Alicia Keys (Expanded Edition)',\n",
       "  'The Element Of Freedom',\n",
       "  'Unplugged'],\n",
       " 'Beyoncé': ['4',\n",
       "  'Above And Beyoncé Dance Mixes',\n",
       "  \"B'Day\",\n",
       "  \"B'Day Deluxe Edition\",\n",
       "  'BEYONCÉ [Platinum Edition]',\n",
       "  'Dangerously In Love',\n",
       "  'Dangerously In Love (Alben für die Ewigkeit)',\n",
       "  'HOMECOMING: THE LIVE ALBUM',\n",
       "  'I AM...SASHA FIERCE',\n",
       "  'I AM...SASHA FIERCE - Platinum Edition',\n",
       "  'I AM...SASHA FIERCE NEW DELUXE EDITION',\n",
       "  'I Am...World Tour',\n",
       "  'Lemonade',\n",
       "  'The Beyonce Experience Live Audio',\n",
       "  'The Lion King: The Gift'],\n",
       " 'Rihanna': ['A Girl Like Me',\n",
       "  'ANTI',\n",
       "  'ANTI (Deluxe)',\n",
       "  'Good Girl Gone Bad',\n",
       "  'Good Girl Gone Bad (Deluxe)',\n",
       "  'Good Girl Gone Bad: Reloaded',\n",
       "  'Good Girl Gone Bad: The Remixes',\n",
       "  'Loud',\n",
       "  'Loud (Japan Version)',\n",
       "  'Music Of The Sun',\n",
       "  'Rated R',\n",
       "  'Rated R (International Explicit Nokia Exclusive Version)',\n",
       "  'Rated R: Remixed',\n",
       "  'Talk That Talk',\n",
       "  'Talk That Talk (Deluxe Edited)',\n",
       "  'Talk That Talk (Deluxe Explicit)',\n",
       "  'Talk That Talk (Deluxe)',\n",
       "  'Talk That Talk (Edited)',\n",
       "  'Talk That Talk (Explicit)',\n",
       "  'Unapologetic',\n",
       "  'Unapologetic (Deluxe Version [Edited])',\n",
       "  'Unapologetic (Deluxe Version)',\n",
       "  'Unapologetic (Deluxe)',\n",
       "  'Unapologetic (Edited Version)',\n",
       "  'Unapologetic (Standard Version [Edited])'],\n",
       " 'Solange': ['A Seat at the Table',\n",
       "  'SoL-AngeL & The Hadley Street Dreams (Instrumental)',\n",
       "  'Sol-Angel and the Hadley St. Dreams (Deluxe)',\n",
       "  'Solo Star',\n",
       "  'True',\n",
       "  'When I Get Home'],\n",
       " 'Missy Elliot': ['Da Real World',\n",
       "  'Miss E... So Addictive',\n",
       "  'Respect M.E.',\n",
       "  'Supa Dupa Fly',\n",
       "  'The Cookbook',\n",
       "  'This Is Not a Test!',\n",
       "  'Under Construction'],\n",
       " 'The Internet': ['Ego Death',\n",
       "  'Feel Good',\n",
       "  'Hive Mind',\n",
       "  'Purple Naked Ladies',\n",
       "  'The Internet - Japan Hits Collection']}"
      ]
     },
     "execution_count": 16,
     "metadata": {},
     "output_type": "execute_result"
    }
   ],
   "source": [
    "female_album_names"
   ]
  },
  {
   "cell_type": "code",
   "execution_count": 22,
   "metadata": {
    "scrolled": true
   },
   "outputs": [
    {
     "name": "stdout",
     "output_type": "stream",
     "text": [
      "No One\n",
      "If I Ain't Got You\n",
      "My Boo\n",
      "Girl On Fire\n",
      "Empire State of Mind (Part II) Broken Down\n",
      "Fallin'\n",
      "Show Me Love (feat. 21 Savage & Miguel)\n",
      "No One - Acoustic\n",
      "Show Me Love\n",
      "Time Machine\n"
     ]
    }
   ],
   "source": [
    "import spotipy\n",
    "import sys\n",
    "import pprint\n",
    "\n",
    "# if len(sys.argv) > 1:\n",
    "#     urn = sys.argv[1]\n",
    "# else:\n",
    "urn = \"spotify:artist:3DiDSECUqqY1AuBP8qtaIa\"\n",
    "sp = spotipy.Spotify(client_credentials_manager=client_credentials_manager)\n",
    "response = sp.artist_top_tracks(urn)\n",
    "\n",
    "for track in response['tracks']:\n",
    "    print(track['name'])"
   ]
  },
  {
   "cell_type": "code",
   "execution_count": null,
   "metadata": {},
   "outputs": [],
   "source": []
  },
  {
   "cell_type": "code",
   "execution_count": null,
   "metadata": {},
   "outputs": [],
   "source": []
  }
 ],
 "metadata": {
  "kernelspec": {
   "display_name": "Python 3",
   "language": "python",
   "name": "python3"
  },
  "language_info": {
   "codemirror_mode": {
    "name": "ipython",
    "version": 3
   },
   "file_extension": ".py",
   "mimetype": "text/x-python",
   "name": "python",
   "nbconvert_exporter": "python",
   "pygments_lexer": "ipython3",
   "version": "3.7.4"
  }
 },
 "nbformat": 4,
 "nbformat_minor": 2
}
