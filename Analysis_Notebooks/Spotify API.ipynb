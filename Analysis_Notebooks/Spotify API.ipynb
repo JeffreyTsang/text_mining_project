{
 "cells": [
  {
   "cell_type": "code",
   "execution_count": 167,
   "metadata": {},
   "outputs": [],
   "source": [
    "#!pip install spotipy\n",
    "import spotipy\n",
    "from spotipy.oauth2 import SpotifyClientCredentials\n",
    "import sys\n",
    "import spotipy.util as util\n",
    "import numpy as np\n",
    "from collections import defaultdict\n",
    "\n",
    "cid =\"baca9371d5f8409a85ffee343639df22\" \n",
    "secret = \"75d20d82245b445882cafae68e3442aa\"\n",
    "\n",
    "client_credentials_manager = SpotifyClientCredentials(client_id=cid,client_secret=secret)\n",
    "sp = spotipy.Spotify(client_credentials_manager=client_credentials_manager)"
   ]
  },
  {
   "cell_type": "code",
   "execution_count": 168,
   "metadata": {},
   "outputs": [],
   "source": [
    "female_uri = {\n",
    "    \"Alicia Keys\":\"spotify:artist:3DiDSECUqqY1AuBP8qtaIa\",\n",
    "    \"Beyoncé\":\"spotify:artist:6vWDO969PvNqNYHIOW5v0m\",\n",
    "    \"Rihanna\":\"spotify:artist:5pKCCKE2ajJHZ9KAiaK11H\",\n",
    "    \"Solange\":\"spotify:artist:2auiVi8sUZo17dLy1HwrTU\",\n",
    "    \"Missy Elliot\":\"spotify:artist:2wIVse2owClT7go1WT98tk\",\n",
    "    \"The Internet\":\"spotify:artist:7GN9PivdemQRKjDt4z5Zv8\",\n",
    "}"
   ]
  },
  {
   "cell_type": "code",
   "execution_count": 169,
   "metadata": {},
   "outputs": [],
   "source": [
    "def get_albums(uri):\n",
    "    results = sp.artist_albums(uri, album_type='album')\n",
    "    albums = results['items']\n",
    "    while results['next']:\n",
    "        results = sp.next(results)\n",
    "        albums.extend(results['items'])\n",
    "    return albums\n",
    "\n",
    "def get_album_names(artists_albums):\n",
    "    artist_name = defaultdict(list)\n",
    "    for artist,row in artists_albums.items():\n",
    "        for album in row:\n",
    "            artist_name[artist].extend([album['name']])\n",
    "        artist_name[artist] = list(np.unique(artist_name[artist]))\n",
    "    \n",
    "    return dict(artist_name)"
   ]
  },
  {
   "cell_type": "code",
   "execution_count": 170,
   "metadata": {},
   "outputs": [
    {
     "name": "stdout",
     "output_type": "stream",
     "text": [
      "Alicia Keys Done\n",
      "Beyoncé Done\n",
      "Rihanna Done\n",
      "Solange Done\n",
      "Missy Elliot Done\n",
      "The Internet Done\n"
     ]
    }
   ],
   "source": [
    "female_albums = {}\n",
    "for name,uri in female_uri.items():\n",
    "    female_albums[name] = get_albums(uri)\n",
    "    print(name,\"Done\")"
   ]
  },
  {
   "cell_type": "code",
   "execution_count": 171,
   "metadata": {},
   "outputs": [],
   "source": [
    "female_album_names = get_album_names(female_albums)"
   ]
  },
  {
   "cell_type": "code",
   "execution_count": 172,
   "metadata": {},
   "outputs": [
    {
     "name": "stdout",
     "output_type": "stream",
     "text": [
      "Alicia Keys\n",
      "\t Alicia Keys - VH1 Storytellers\n",
      "\t As I Am (Expanded Edition)\n",
      "\t Girl On Fire\n",
      "\t HERE\n",
      "\t Songs In A Minor (Expanded Edition)\n",
      "\t The Diary Of Alicia Keys\n",
      "\t The Diary Of Alicia Keys (Expanded Edition)\n",
      "\t The Element Of Freedom\n",
      "\t Unplugged\n",
      "Beyoncé\n",
      "\t 4\n",
      "\t 4: The Remix\n",
      "\t Above And Beyoncé Dance Mixes\n",
      "\t B'Day\n",
      "\t B'Day Deluxe Edition\n",
      "\t BEYONCÉ [Platinum Edition]\n",
      "\t Dangerously In Love\n",
      "\t Dangerously In Love (Alben für die Ewigkeit)\n",
      "\t HOMECOMING: THE LIVE ALBUM\n",
      "\t I AM...SASHA FIERCE\n",
      "\t I AM...SASHA FIERCE - Platinum Edition\n",
      "\t I AM...SASHA FIERCE NEW DELUXE EDITION\n",
      "\t I Am...World Tour\n",
      "\t Lemonade\n",
      "\t The Beyonce Experience Live Audio\n",
      "\t The Lion King: The Gift\n",
      "Rihanna\n",
      "\t A Girl Like Me\n",
      "\t ANTI\n",
      "\t ANTI (Deluxe)\n",
      "\t Good Girl Gone Bad\n",
      "\t Good Girl Gone Bad (Deluxe)\n",
      "\t Good Girl Gone Bad: Reloaded\n",
      "\t Good Girl Gone Bad: The Remixes\n",
      "\t Loud\n",
      "\t Loud (Japan Version)\n",
      "\t Music Of The Sun\n",
      "\t Rated R\n",
      "\t Rated R (International Explicit Nokia Exclusive Version)\n",
      "\t Rated R: Remixed\n",
      "\t Talk That Talk\n",
      "\t Talk That Talk (Deluxe Edited)\n",
      "\t Talk That Talk (Deluxe Explicit)\n",
      "\t Talk That Talk (Deluxe)\n",
      "\t Talk That Talk (Edited)\n",
      "\t Talk That Talk (Explicit)\n",
      "\t Unapologetic\n",
      "\t Unapologetic (Deluxe Version [Edited])\n",
      "\t Unapologetic (Deluxe Version)\n",
      "\t Unapologetic (Deluxe)\n",
      "\t Unapologetic (Edited Version)\n",
      "\t Unapologetic (Standard Version [Edited])\n",
      "Solange\n",
      "\t A Seat at the Table\n",
      "\t SoL-AngeL & The Hadley Street Dreams (Instrumental)\n",
      "\t Sol-Angel and the Hadley St. Dreams (Deluxe)\n",
      "\t Solo Star\n",
      "\t True\n",
      "\t When I Get Home\n",
      "Missy Elliot\n",
      "\t Da Real World\n",
      "\t Miss E... So Addictive\n",
      "\t Respect M.E.\n",
      "\t Supa Dupa Fly\n",
      "\t The Cookbook\n",
      "\t This Is Not a Test!\n",
      "\t Under Construction\n",
      "The Internet\n",
      "\t Ego Death\n",
      "\t Feel Good\n",
      "\t Hive Mind\n",
      "\t Purple Naked Ladies\n",
      "\t The Internet - Japan Hits Collection\n"
     ]
    }
   ],
   "source": [
    "for nam,oh in female_album_names.items():\n",
    "    print(nam)\n",
    "    for ohhh in oh:\n",
    "        print(\"\\t\",ohhh)"
   ]
  },
  {
   "cell_type": "code",
   "execution_count": null,
   "metadata": {},
   "outputs": [],
   "source": []
  },
  {
   "cell_type": "code",
   "execution_count": null,
   "metadata": {},
   "outputs": [],
   "source": []
  }
 ],
 "metadata": {
  "kernelspec": {
   "display_name": "Python 3",
   "language": "python",
   "name": "python3"
  },
  "language_info": {
   "codemirror_mode": {
    "name": "ipython",
    "version": 3
   },
   "file_extension": ".py",
   "mimetype": "text/x-python",
   "name": "python",
   "nbconvert_exporter": "python",
   "pygments_lexer": "ipython3",
   "version": "3.7.3"
  }
 },
 "nbformat": 4,
 "nbformat_minor": 2
}
